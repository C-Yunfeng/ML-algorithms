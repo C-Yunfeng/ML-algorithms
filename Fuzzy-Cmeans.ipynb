{
 "cells": [
  {
   "cell_type": "markdown",
   "metadata": {},
   "source": [
    "# Fuzzy-Cmeans\n",
    "## 其目标在于将样本分类到K个模式中\n",
    "\n",
    "三个步骤:\n",
    "\n",
    "1 Initialisation – 初始化隶属矩阵，第$i$个样本$x^{(i)}$的隶属矩阵如下（需要归一化，确保概率和为1，$M.shape=(m*k)$）\n",
    "$$M_{origin}^{(i)}=[random()\\ for\\ j\\ in\\ range(k)]$$\n",
    "$$M^{(i)}=M_{origin}^{(i)}/sum(M_{origin}^{(i)})$$\n",
    "2 Assignment\n",
    "$$c_j=\\frac{\\sum_i^m\\omega_j^{(i)}x^{(i)}}{\\sum_i^m\\omega_j^{(i)}},j=1,2...k$$  \n",
    "3 Update – The centroid of the clusters becomes the new mean\n",
    "$$w_{ij}=\\frac{1}{\\sum_{t=1}^{k}(\\frac{||x^{(i)}-c_j||}{||x^{(i)}-c_t||})^2}$$\n",
    "4 min Loss\n",
    "$$J=\\sum_i^m\\sum_j^kw_{ij}||x^{(i)}-c_j||^2$$"
   ]
  },
  {
   "cell_type": "code",
   "execution_count": 6,
   "metadata": {},
   "outputs": [],
   "source": [
    "import random\n",
    "import numpy as np\n",
    "\n",
    "def get_proba_mat(X,k):\n",
    "    #初始化隶属矩阵10*3\n",
    "    proba_mat = []\n",
    "    for i in range(X.shape[0]):\n",
    "        random_list = [random.random() for i in range(k)]\n",
    "        proba_lst = [x/sum(random_list) for x in random_list]\n",
    "        proba_mat.append(proba_lst)\n",
    "    return proba_mat\n",
    "\n",
    "def get_center_lst(X,proba_mat,k,m):\n",
    "    #计算聚类中心\n",
    "    proba_mat_T = np.array(proba_mat).T\n",
    "    center_lst = []\n",
    "    for j in range(k):\n",
    "        center_proba_lst = proba_mat_T[j]  #1*10\n",
    "        proba_power_lst=[center_proba ** m for center_proba in center_proba_lst]\n",
    "        denominator = sum(proba_power_lst) #分母\n",
    "        \n",
    "        product_lst = []\n",
    "        for i in range(X.shape[0]):\n",
    "            point = X.iloc[i]\n",
    "            product = [proba_power_lst[i] * x for x in point]  #element like [proba*x,proba*y]\n",
    "            product_lst.append(product)\n",
    "        \n",
    "        numerator = np.sum(product_lst,axis=0)  #分子\n",
    "        center = [x/denominator for x in numerator]\n",
    "        center_lst.append(center)\n",
    "    lst_course.append(center_lst)\n",
    "    return center_lst\n",
    "        \n",
    "def update_proba_mat(X,center_lst,proba_mat,k,m):\n",
    "    #更新隶属矩阵\n",
    "    p = 2/(m-1)\n",
    "    for i in range(X.shape[0]):\n",
    "        x = X.iloc[i]\n",
    "        distances = [np.linalg.norm(x-center_lst[j]) for j in range(k)]\n",
    "        for j in range(k):\n",
    "            den = sum([(distances[j]/distances[c])**p for c in range(k)])\n",
    "            proba_mat[i][j] = 1/den\n",
    "    return proba_mat\n",
    "\n",
    "#迭代\n",
    "def fuzzyCMeansClustering(X,proba_mat,center_lst,k,m,max_iter):\n",
    "    curr = 0\n",
    "    while curr <= max_iter:\n",
    "        center_lst = get_center_lst(X,proba_mat,k,m)\n",
    "        proba_mat = update_proba_mat(X,center_lst,proba_mat,k,m)\n",
    "        curr += 1\n",
    "    return proba_mat,center_lst"
   ]
  },
  {
   "cell_type": "code",
   "execution_count": 7,
   "metadata": {},
   "outputs": [],
   "source": [
    "import pandas as pd\n",
    "\n",
    "df = pd.DataFrame({\n",
    "    'x': [12, 20, 28, 18, 29, 33, 24, 45, 45, 52, 51, 52, 55, 53, 55, 61, 64, 69, 72],\n",
    "    'y': [39, 36, 30, 52, 54, 46, 55, 59, 63, 70, 66, 63, 58, 23, 14, 8, 19, 7, 24]\n",
    "})\n",
    "\n",
    "X=df\n",
    "k=3\n",
    "m=2\n",
    "max_iter=15\n",
    "lst_course=[]\n",
    "\n",
    "begin_mat=get_proba_mat(X,k)\n",
    "begin_centers=get_center_lst(X,begin_mat,k,m)\n",
    "end_mat,end_centers=fuzzyCMeansClustering(X,begin_mat,begin_centers,k,m,max_iter)"
   ]
  },
  {
   "cell_type": "code",
   "execution_count": 8,
   "metadata": {},
   "outputs": [],
   "source": [
    "# begin_centers,end_centers"
   ]
  },
  {
   "cell_type": "code",
   "execution_count": 9,
   "metadata": {},
   "outputs": [],
   "source": [
    "#打标签\n",
    "def createLabels(X,end_centers):\n",
    "    for j in range(k):\n",
    "        X['distance_from_{}'.format(j)] = [np.linalg.norm(X.iloc[i,:2]-end_centers[j]) for i in range(X.shape[0])]\n",
    "\n",
    "    X['label'] = [int(X.iloc[i,2:].idxmin()[-1]) for i in range(X.shape[0])]\n",
    "    return X\n",
    "\n",
    "#画图\n",
    "def plot_changes(X,center_lst,end_centers):\n",
    "    f, axes = plt.subplots(1, 2, figsize=(11,5))\n",
    "    axes[0].scatter(X.iloc[:,0], X.iloc[:,1])\n",
    "    axes[0].scatter(np.array(center_lst).T[0], np.array(center_lst).T[1],marker=\"s\",s=20)\n",
    "    axes[1].scatter(X.iloc[:,0], X.iloc[:,1],c=X['label'])\n",
    "    axes[1].scatter(np.array(end_centers).T[0], np.array(end_centers).T[1],marker=\"s\",s=20)\n",
    "\n",
    "    for i in range(k):\n",
    "        x=center_lst[i][0]\n",
    "        y=center_lst[i][1]\n",
    "        dx = (end_centers[i][0] - center_lst[i][0])*0.75\n",
    "        dy = (end_centers[i][1] - center_lst[i][1])*0.75\n",
    "        axes[1].arrow(x, y, dx, dy, head_width=2, head_length=3)#, fc=colmap[i], ec=colmap[i]\n",
    "        \n",
    "    return plt"
   ]
  },
  {
   "cell_type": "code",
   "execution_count": 10,
   "metadata": {},
   "outputs": [
    {
     "data": {
      "image/png": "[encoded data removed]",
      "text/plain": [
       "<Figure size 792x360 with 2 Axes>"
      ]
     },
     "metadata": {},
     "output_type": "display_data"
    }
   ],
   "source": [
    "import matplotlib.pyplot as plt\n",
    "\n",
    "X_end=createLabels(X.copy(),end_centers)\n",
    "plt=plot_changes(X_end,begin_centers,end_centers)\n",
    "plt.show()"
   ]
  },
  {
   "cell_type": "markdown",
   "metadata": {},
   "source": [
    "### plot_course"
   ]
  },
  {
   "cell_type": "code",
   "execution_count": 16,
   "metadata": {
    "scrolled": true
   },
   "outputs": [
    {
     "data": {
      "text/plain": [
       "'C:\\\\Users\\\\Administrator\\\\2019-Data_science\\\\Case-exercise\\\\AIcomputing\\\\Fuzzy-Kmeans'"
      ]
     },
     "execution_count": 16,
     "metadata": {},
     "output_type": "execute_result"
    }
   ],
   "source": [
    "import os\n",
    "cwd=os.getcwd()\n",
    "cwd"
   ]
  },
  {
   "cell_type": "code",
   "execution_count": 20,
   "metadata": {},
   "outputs": [],
   "source": [
    "def plot_course(X,lst_course):\n",
    "    plt.figure(figsize=(10,10))\n",
    "\n",
    "    plt.scatter(X.iloc[:,0], X.iloc[:,1],c=X['label'])\n",
    "    \n",
    "    for i in range(len(lst_course)-1):\n",
    "        plt.scatter(np.array(lst_course[i]).T[0], np.array(lst_course[i]).T[1],marker=\"s\",s=20,color='r')\n",
    "        for j in range(k):\n",
    "            x1=lst_course[i][j][0]\n",
    "            y1=lst_course[i][j][1]\n",
    "            x2=lst_course[i+1][j][0]\n",
    "            y2=lst_course[i+1][j][1]\n",
    "            dx = (x2 - x1)\n",
    "            dy = (y2 - y1)\n",
    "            if i!=len(lst_course)-2:\n",
    "                plt.arrow(x1, y1, dx, dy,color='red')\n",
    "            else:\n",
    "                plt.arrow(x1, y1, dx, dy,head_width=1,head_length=1.5,color='r')\n",
    "        fname='{}/imgs/{}.png'.format(cwd,i)\n",
    "        plt.savefig(fname, dpi=None, facecolor='w', edgecolor='w')\n",
    "    plt.show()"
   ]
  },
  {
   "cell_type": "code",
   "execution_count": 22,
   "metadata": {},
   "outputs": [
    {
     "data": {
      "image/png": "[encoded data removed]",
      "text/plain": [
       "<Figure size 720x720 with 1 Axes>"
      ]
     },
     "metadata": {},
     "output_type": "display_data"
    }
   ],
   "source": [
    "plot_course(X_end,lst_course)"
   ]
  },
  {
   "cell_type": "code",
   "execution_count": 23,
   "metadata": {},
   "outputs": [
    {
     "name": "stderr",
     "output_type": "stream",
     "text": [
      "t:  19%|█████████████▏                                                        | 3/16 [00:00<00:00, 20.85it/s, now=None]"
     ]
    },
    {
     "name": "stdout",
     "output_type": "stream",
     "text": [
      "MoviePy - Building file C:\\Users\\Administrator\\2019-Data_science\\Case-exercise\\AIcomputing\\Fuzzy-Kmeans/imgs/demo.gif with imageio.\n"
     ]
    },
    {
     "name": "stderr",
     "output_type": "stream",
     "text": [
      "                                                                                                                       \r"
     ]
    }
   ],
   "source": [
    "from moviepy.editor import ImageSequenceClip\n",
    "\n",
    "path='{}/imgs'.format(cwd)\n",
    "img_names = ['{}/{}.png'.format(path,i) for i in range(0,16)]\n",
    "\n",
    "clip = ImageSequenceClip(img_names,fps=3)\n",
    "clip.write_gif('{}/demo.gif'.format(path))"
   ]
  },
  {
   "cell_type": "code",
   "execution_count": null,
   "metadata": {},
   "outputs": [],
   "source": []
  }
 ],
 "metadata": {
  "kernelspec": {
   "display_name": "Python 3",
   "language": "python",
   "name": "python3"
  },
  "language_info": {
   "codemirror_mode": {
    "name": "ipython",
    "version": 3
   },
   "file_extension": ".py",
   "mimetype": "text/x-python",
   "name": "python",
   "nbconvert_exporter": "python",
   "pygments_lexer": "ipython3",
   "version": "3.6.5"
  }
 },
 "nbformat": 4,
 "nbformat_minor": 2
}
